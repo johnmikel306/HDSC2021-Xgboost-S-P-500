{
 "cells": [
  {
   "cell_type": "code",
   "execution_count": 40,
   "metadata": {
    "execution": {
     "iopub.execute_input": "2021-11-11T21:23:16.165026Z",
     "iopub.status.busy": "2021-11-11T21:23:16.164628Z",
     "iopub.status.idle": "2021-11-11T21:23:16.173077Z",
     "shell.execute_reply": "2021-11-11T21:23:16.172364Z",
     "shell.execute_reply.started": "2021-11-11T21:23:16.164978Z"
    }
   },
   "outputs": [],
   "source": [
    "import pandas as pd\n",
    "import matplotlib.pyplot as plt\n",
    "import numpy as np\n",
    "from datetime import datetime\n",
    "%matplotlib inline\n",
    "plt.style.use('ggplot')\n",
    "plt.rcParams['figure.figsize'] = (15, 10)"
   ]
  },
  {
   "cell_type": "code",
   "execution_count": 41,
   "metadata": {
    "execution": {
     "iopub.execute_input": "2021-11-11T21:23:16.175331Z",
     "iopub.status.busy": "2021-11-11T21:23:16.174672Z",
     "iopub.status.idle": "2021-11-11T21:23:16.214852Z",
     "shell.execute_reply": "2021-11-11T21:23:16.214300Z",
     "shell.execute_reply.started": "2021-11-11T21:23:16.175265Z"
    }
   },
   "outputs": [],
   "source": [
    "df = pd.read_csv('../input/sandp500/individual_stocks_5yr/individual_stocks_5yr/AMZN_data.csv')\n",
    "print(df.shape)\n",
    "df.head()"
   ]
  },
  {
   "cell_type": "markdown",
   "metadata": {},
   "source": [
    "**Adding a new Year column**"
   ]
  },
  {
   "cell_type": "code",
   "execution_count": 42,
   "metadata": {
    "execution": {
     "iopub.execute_input": "2021-11-11T21:23:16.216423Z",
     "iopub.status.busy": "2021-11-11T21:23:16.215807Z",
     "iopub.status.idle": "2021-11-11T21:23:16.223622Z",
     "shell.execute_reply": "2021-11-11T21:23:16.222486Z",
     "shell.execute_reply.started": "2021-11-11T21:23:16.216384Z"
    }
   },
   "outputs": [],
   "source": [
    "df['year'] = pd.DatetimeIndex(df['date']).year"
   ]
  },
  {
   "cell_type": "markdown",
   "metadata": {},
   "source": [
    "\n",
    "**Visualizing Yearly Based Open, Close, High and Low Stocks MAX**"
   ]
  },
  {
   "cell_type": "code",
   "execution_count": 43,
   "metadata": {
    "execution": {
     "iopub.execute_input": "2021-11-11T21:23:16.225250Z",
     "iopub.status.busy": "2021-11-11T21:23:16.224921Z",
     "iopub.status.idle": "2021-11-11T21:23:16.587138Z",
     "shell.execute_reply": "2021-11-11T21:23:16.586530Z",
     "shell.execute_reply.started": "2021-11-11T21:23:16.225206Z"
    }
   },
   "outputs": [],
   "source": [
    "tempdf = df.groupby('year',as_index=False).sum()\n",
    "tempdf.plot('year',['open','close','high','low'],kind = 'bar')"
   ]
  },
  {
   "cell_type": "markdown",
   "metadata": {},
   "source": [
    "**Visualizing the amount of stocks sold over year**"
   ]
  },
  {
   "cell_type": "code",
   "execution_count": 44,
   "metadata": {
    "execution": {
     "iopub.execute_input": "2021-11-11T21:23:16.589392Z",
     "iopub.status.busy": "2021-11-11T21:23:16.589034Z",
     "iopub.status.idle": "2021-11-11T21:23:16.863117Z",
     "shell.execute_reply": "2021-11-11T21:23:16.862544Z",
     "shell.execute_reply.started": "2021-11-11T21:23:16.589361Z"
    }
   },
   "outputs": [],
   "source": [
    "x = df.groupby('year').sum().sort_values('volume', ascending = False)\n",
    "x.plot.bar( y='volume', rot=0)"
   ]
  },
  {
   "cell_type": "markdown",
   "metadata": {},
   "source": [
    "**Visualizing the amount of data each year**"
   ]
  },
  {
   "cell_type": "code",
   "execution_count": 45,
   "metadata": {
    "execution": {
     "iopub.execute_input": "2021-11-11T21:23:16.864522Z",
     "iopub.status.busy": "2021-11-11T21:23:16.864188Z",
     "iopub.status.idle": "2021-11-11T21:23:17.000117Z",
     "shell.execute_reply": "2021-11-11T21:23:16.999199Z",
     "shell.execute_reply.started": "2021-11-11T21:23:16.864495Z"
    }
   },
   "outputs": [],
   "source": [
    "df.groupby('year')['year'].agg('count').plot(kind='pie',title='Year')"
   ]
  },
  {
   "cell_type": "code",
   "execution_count": 46,
   "metadata": {
    "execution": {
     "iopub.execute_input": "2021-11-11T21:23:17.001683Z",
     "iopub.status.busy": "2021-11-11T21:23:17.001437Z",
     "iopub.status.idle": "2021-11-11T21:23:17.011662Z",
     "shell.execute_reply": "2021-11-11T21:23:17.010836Z",
     "shell.execute_reply.started": "2021-11-11T21:23:17.001652Z"
    }
   },
   "outputs": [],
   "source": [
    "newDf = df[(df.year==2013)]\n",
    "newDf.volume.sum()\n",
    "s = df.year.value_counts()\n",
    "x = s.to_dict()\n",
    "x"
   ]
  },
  {
   "cell_type": "code",
   "execution_count": 47,
   "metadata": {
    "execution": {
     "iopub.execute_input": "2021-11-11T21:23:17.013740Z",
     "iopub.status.busy": "2021-11-11T21:23:17.013164Z",
     "iopub.status.idle": "2021-11-11T21:23:17.025167Z",
     "shell.execute_reply": "2021-11-11T21:23:17.024494Z",
     "shell.execute_reply.started": "2021-11-11T21:23:17.013697Z"
    }
   },
   "outputs": [],
   "source": [
    "def yearlyAllocatedData(years_dict,totalSize):\n",
    "    allocation = []\n",
    "    for i in years_dict:\n",
    "        allocation.append((100 * years_dict[i] / totalSize))\n",
    "    return allocation"
   ]
  },
  {
   "cell_type": "code",
   "execution_count": 48,
   "metadata": {
    "execution": {
     "iopub.execute_input": "2021-11-11T21:23:17.027059Z",
     "iopub.status.busy": "2021-11-11T21:23:17.026609Z",
     "iopub.status.idle": "2021-11-11T21:23:17.043953Z",
     "shell.execute_reply": "2021-11-11T21:23:17.043003Z",
     "shell.execute_reply.started": "2021-11-11T21:23:17.027026Z"
    }
   },
   "outputs": [],
   "source": [
    "print(yearlyAllocatedData(x,len(df)))"
   ]
  },
  {
   "cell_type": "markdown",
   "metadata": {},
   "source": [
    "**Filtering 2018 data since, there is very less number of data we have for that year**"
   ]
  },
  {
   "cell_type": "code",
   "execution_count": 49,
   "metadata": {
    "execution": {
     "iopub.execute_input": "2021-11-11T21:23:17.047400Z",
     "iopub.status.busy": "2021-11-11T21:23:17.046475Z",
     "iopub.status.idle": "2021-11-11T21:23:17.072796Z",
     "shell.execute_reply": "2021-11-11T21:23:17.072001Z",
     "shell.execute_reply.started": "2021-11-11T21:23:17.047346Z"
    }
   },
   "outputs": [],
   "source": [
    "df = df[df['year'] != 2018]\n",
    "df"
   ]
  },
  {
   "cell_type": "markdown",
   "metadata": {},
   "source": [
    "**Grapical Visualization of  Open, Close, High and Low Stocks over Days**"
   ]
  },
  {
   "cell_type": "code",
   "execution_count": 50,
   "metadata": {
    "execution": {
     "iopub.execute_input": "2021-11-11T21:23:17.074246Z",
     "iopub.status.busy": "2021-11-11T21:23:17.073769Z",
     "iopub.status.idle": "2021-11-11T21:23:17.789202Z",
     "shell.execute_reply": "2021-11-11T21:23:17.788341Z",
     "shell.execute_reply.started": "2021-11-11T21:23:17.074205Z"
    }
   },
   "outputs": [],
   "source": [
    "fig = plt.figure(figsize=(25,20))\n",
    "\n",
    "# Visualizing the opening prices of the data.\n",
    "plt.subplot(2,2,1)\n",
    "plt.title('Openning Price')\n",
    "plt.xlabel('Days')\n",
    "plt.ylabel('Opening Price USD ($)')\n",
    "plt.plot(df['open'])\n",
    "\n",
    "# Visualizing the closing prices of the data.\n",
    "plt.subplot(2,2,2)\n",
    "plt.title('Close Price')\n",
    "plt.xlabel('Days')\n",
    "plt.ylabel('Closing Price USD ($)')\n",
    "plt.plot(df['close'])\n",
    "\n",
    "# Visualizing the high prices of the data.\n",
    "plt.subplot(2,2,3)\n",
    "plt.title('High Price')\n",
    "plt.xlabel('Days')\n",
    "plt.ylabel('High Price USD ($)')\n",
    "plt.plot(df['high'])\n",
    "\n",
    "# Visualizing the low prices of the data.\n",
    "plt.subplot(2,2,4)\n",
    "plt.title('Low Price')\n",
    "plt.xlabel('Days')\n",
    "plt.ylabel('Low Price USD ($)')\n",
    "plt.plot(df['low'])\n",
    "\n",
    "plt.show()"
   ]
  },
  {
   "cell_type": "markdown",
   "metadata": {},
   "source": [
    "**Grapical Visualization of Date Over Open, Close, High and Low Stocks**"
   ]
  },
  {
   "cell_type": "code",
   "execution_count": 51,
   "metadata": {
    "execution": {
     "iopub.execute_input": "2021-11-11T21:23:17.790946Z",
     "iopub.status.busy": "2021-11-11T21:23:17.790721Z",
     "iopub.status.idle": "2021-11-11T21:23:18.091513Z",
     "shell.execute_reply": "2021-11-11T21:23:18.090393Z",
     "shell.execute_reply.started": "2021-11-11T21:23:17.790919Z"
    }
   },
   "outputs": [],
   "source": [
    "df.plot(kind = \"line\",x = 'date' , y = ['open', 'close', 'low','high'])"
   ]
  },
  {
   "cell_type": "markdown",
   "metadata": {},
   "source": [
    "**Grapical Visualization of Date Over Open, Close, High and Low Stocks (*Clear Insights*)**"
   ]
  },
  {
   "cell_type": "code",
   "execution_count": 52,
   "metadata": {
    "execution": {
     "iopub.execute_input": "2021-11-11T21:23:18.093347Z",
     "iopub.status.busy": "2021-11-11T21:23:18.093009Z",
     "iopub.status.idle": "2021-11-11T21:23:18.456011Z",
     "shell.execute_reply": "2021-11-11T21:23:18.455191Z",
     "shell.execute_reply.started": "2021-11-11T21:23:18.093310Z"
    }
   },
   "outputs": [],
   "source": [
    "df[10:50].plot(kind = \"line\",x = 'date' , y = ['open', 'close', 'low','high'])"
   ]
  },
  {
   "cell_type": "markdown",
   "metadata": {},
   "source": [
    "**Grapical Visualization of Yearly Based Open, Close, High and Low Stocks Over Month**"
   ]
  },
  {
   "cell_type": "code",
   "execution_count": 53,
   "metadata": {
    "execution": {
     "iopub.execute_input": "2021-11-11T21:23:18.459867Z",
     "iopub.status.busy": "2021-11-11T21:23:18.459602Z",
     "iopub.status.idle": "2021-11-11T21:23:18.478552Z",
     "shell.execute_reply": "2021-11-11T21:23:18.476789Z",
     "shell.execute_reply.started": "2021-11-11T21:23:18.459834Z"
    }
   },
   "outputs": [],
   "source": [
    "df['months'] = pd.DatetimeIndex(df['date']).month\n",
    "df.head()"
   ]
  },
  {
   "cell_type": "code",
   "execution_count": 54,
   "metadata": {
    "execution": {
     "iopub.execute_input": "2021-11-11T21:23:18.481019Z",
     "iopub.status.busy": "2021-11-11T21:23:18.480362Z",
     "iopub.status.idle": "2021-11-11T21:23:18.528359Z",
     "shell.execute_reply": "2021-11-11T21:23:18.527475Z",
     "shell.execute_reply.started": "2021-11-11T21:23:18.480960Z"
    }
   },
   "outputs": [],
   "source": [
    "yearly_open_Pivot = pd.pivot_table(df, values = \"open\", columns = \"year\", index = \"months\")\n",
    "yearly_close_Pivot = pd.pivot_table(df, values = \"close\", columns = \"year\", index = \"months\")\n",
    "yearly_high_Pivot = pd.pivot_table(df, values = \"high\", columns = \"year\", index = \"months\")\n",
    "yearly_low_Pivot = pd.pivot_table(df, values = \"low\", columns = \"year\", index = \"months\")"
   ]
  },
  {
   "cell_type": "code",
   "execution_count": 55,
   "metadata": {
    "execution": {
     "iopub.execute_input": "2021-11-11T21:23:18.530511Z",
     "iopub.status.busy": "2021-11-11T21:23:18.530169Z",
     "iopub.status.idle": "2021-11-11T21:23:18.852166Z",
     "shell.execute_reply": "2021-11-11T21:23:18.851519Z",
     "shell.execute_reply.started": "2021-11-11T21:23:18.530466Z"
    }
   },
   "outputs": [],
   "source": [
    "yearly_open_Pivot.plot()"
   ]
  },
  {
   "cell_type": "code",
   "execution_count": 56,
   "metadata": {
    "execution": {
     "iopub.execute_input": "2021-11-11T21:23:18.853702Z",
     "iopub.status.busy": "2021-11-11T21:23:18.853477Z",
     "iopub.status.idle": "2021-11-11T21:23:19.917190Z",
     "shell.execute_reply": "2021-11-11T21:23:19.916236Z",
     "shell.execute_reply.started": "2021-11-11T21:23:18.853675Z"
    }
   },
   "outputs": [],
   "source": [
    "yearly_open_Pivot.plot(subplots = True, figsize=(15, 10), layout=(3,3))"
   ]
  },
  {
   "cell_type": "code",
   "execution_count": 57,
   "metadata": {
    "execution": {
     "iopub.execute_input": "2021-11-11T21:23:19.919043Z",
     "iopub.status.busy": "2021-11-11T21:23:19.918720Z",
     "iopub.status.idle": "2021-11-11T21:23:20.204690Z",
     "shell.execute_reply": "2021-11-11T21:23:20.201842Z",
     "shell.execute_reply.started": "2021-11-11T21:23:19.919001Z"
    }
   },
   "outputs": [],
   "source": [
    "yearly_close_Pivot.plot()"
   ]
  },
  {
   "cell_type": "code",
   "execution_count": 58,
   "metadata": {
    "execution": {
     "iopub.execute_input": "2021-11-11T21:23:20.206416Z",
     "iopub.status.busy": "2021-11-11T21:23:20.206069Z",
     "iopub.status.idle": "2021-11-11T21:23:21.201070Z",
     "shell.execute_reply": "2021-11-11T21:23:21.200241Z",
     "shell.execute_reply.started": "2021-11-11T21:23:20.206370Z"
    }
   },
   "outputs": [],
   "source": [
    "yearly_close_Pivot.plot(subplots = True, figsize=(15, 10), layout=(3,3))"
   ]
  },
  {
   "cell_type": "code",
   "execution_count": 59,
   "metadata": {
    "execution": {
     "iopub.execute_input": "2021-11-11T21:23:21.202884Z",
     "iopub.status.busy": "2021-11-11T21:23:21.202371Z",
     "iopub.status.idle": "2021-11-11T21:23:21.479459Z",
     "shell.execute_reply": "2021-11-11T21:23:21.478458Z",
     "shell.execute_reply.started": "2021-11-11T21:23:21.202838Z"
    }
   },
   "outputs": [],
   "source": [
    "yearly_high_Pivot.plot()"
   ]
  },
  {
   "cell_type": "code",
   "execution_count": 60,
   "metadata": {
    "execution": {
     "iopub.execute_input": "2021-11-11T21:23:21.481242Z",
     "iopub.status.busy": "2021-11-11T21:23:21.480910Z",
     "iopub.status.idle": "2021-11-11T21:23:22.509242Z",
     "shell.execute_reply": "2021-11-11T21:23:22.508433Z",
     "shell.execute_reply.started": "2021-11-11T21:23:21.481187Z"
    }
   },
   "outputs": [],
   "source": [
    "yearly_high_Pivot.plot(subplots = True, figsize=(20, 10), layout=(3,3))"
   ]
  },
  {
   "cell_type": "code",
   "execution_count": 61,
   "metadata": {
    "execution": {
     "iopub.execute_input": "2021-11-11T21:23:22.510951Z",
     "iopub.status.busy": "2021-11-11T21:23:22.510700Z",
     "iopub.status.idle": "2021-11-11T21:23:22.829082Z",
     "shell.execute_reply": "2021-11-11T21:23:22.828404Z",
     "shell.execute_reply.started": "2021-11-11T21:23:22.510909Z"
    }
   },
   "outputs": [],
   "source": [
    "yearly_low_Pivot.plot()"
   ]
  },
  {
   "cell_type": "code",
   "execution_count": 62,
   "metadata": {
    "execution": {
     "iopub.execute_input": "2021-11-11T21:23:22.830969Z",
     "iopub.status.busy": "2021-11-11T21:23:22.830298Z",
     "iopub.status.idle": "2021-11-11T21:23:23.909377Z",
     "shell.execute_reply": "2021-11-11T21:23:23.908500Z",
     "shell.execute_reply.started": "2021-11-11T21:23:22.830930Z"
    }
   },
   "outputs": [],
   "source": [
    "yearly_low_Pivot.plot(subplots = True, figsize=(20, 10), layout=(3,3))"
   ]
  },
  {
   "cell_type": "markdown",
   "metadata": {},
   "source": [
    "# Predicting the closing price stock"
   ]
  },
  {
   "cell_type": "code",
   "execution_count": 63,
   "metadata": {
    "execution": {
     "iopub.execute_input": "2021-11-11T21:23:23.910890Z",
     "iopub.status.busy": "2021-11-11T21:23:23.910585Z",
     "iopub.status.idle": "2021-11-11T21:23:23.928410Z",
     "shell.execute_reply": "2021-11-11T21:23:23.927363Z",
     "shell.execute_reply.started": "2021-11-11T21:23:23.910857Z"
    }
   },
   "outputs": [],
   "source": [
    "df.head()"
   ]
  },
  {
   "cell_type": "code",
   "execution_count": 64,
   "metadata": {
    "execution": {
     "iopub.execute_input": "2021-11-11T21:23:23.929933Z",
     "iopub.status.busy": "2021-11-11T21:23:23.929613Z",
     "iopub.status.idle": "2021-11-11T21:23:24.469134Z",
     "shell.execute_reply": "2021-11-11T21:23:24.468326Z",
     "shell.execute_reply.started": "2021-11-11T21:23:23.929902Z"
    }
   },
   "outputs": [],
   "source": [
    "plt.figure(figsize=(16,6))\n",
    "plt.title('Close Price History')\n",
    "plt.plot(df['close'])\n",
    "plt.ylabel('Close Price USD ($)', fontsize=18)\n",
    "plt.show()"
   ]
  },
  {
   "cell_type": "code",
   "execution_count": 65,
   "metadata": {
    "execution": {
     "iopub.execute_input": "2021-11-11T21:23:24.470624Z",
     "iopub.status.busy": "2021-11-11T21:23:24.470406Z",
     "iopub.status.idle": "2021-11-11T21:23:24.477984Z",
     "shell.execute_reply": "2021-11-11T21:23:24.477196Z",
     "shell.execute_reply.started": "2021-11-11T21:23:24.470597Z"
    }
   },
   "outputs": [],
   "source": [
    "\n",
    "data = df.filter(['close'])\n",
    "# Convert the dataframe to a numpy array\n",
    "dataset = data.values\n",
    "\n",
    "training_data_len = int(np.ceil( len(dataset) * .95 ))\n",
    "\n",
    "training_data_len"
   ]
  },
  {
   "cell_type": "code",
   "execution_count": 66,
   "metadata": {
    "execution": {
     "iopub.execute_input": "2021-11-11T21:23:24.479481Z",
     "iopub.status.busy": "2021-11-11T21:23:24.479203Z",
     "iopub.status.idle": "2021-11-11T21:23:24.493353Z",
     "shell.execute_reply": "2021-11-11T21:23:24.492327Z",
     "shell.execute_reply.started": "2021-11-11T21:23:24.479450Z"
    }
   },
   "outputs": [],
   "source": [
    "# Scale the data\n",
    "from sklearn.preprocessing import MinMaxScaler\n",
    "\n",
    "scaler = MinMaxScaler(feature_range=(0,1))\n",
    "scaled_data = scaler.fit_transform(dataset)\n",
    "\n",
    "scaled_data"
   ]
  },
  {
   "cell_type": "code",
   "execution_count": 67,
   "metadata": {
    "execution": {
     "iopub.execute_input": "2021-11-11T21:23:24.495291Z",
     "iopub.status.busy": "2021-11-11T21:23:24.494991Z",
     "iopub.status.idle": "2021-11-11T21:23:24.513458Z",
     "shell.execute_reply": "2021-11-11T21:23:24.512482Z",
     "shell.execute_reply.started": "2021-11-11T21:23:24.495231Z"
    }
   },
   "outputs": [],
   "source": [
    "# Create the training data set \n",
    "\n",
    "train_data = scaled_data[0:int(training_data_len), :]\n",
    "# Split the data into x_train and y_train data sets\n",
    "x_train = []\n",
    "y_train = []\n",
    "\n",
    "for i in range(60, len(train_data)):\n",
    "    x_train.append(train_data[i-60:i, 0])\n",
    "    y_train.append(train_data[i, 0])\n",
    "    if i<= 61:\n",
    "        print(x_train)\n",
    "        print(y_train)\n",
    "        print()\n",
    "\n",
    "x_train, y_train = np.array(x_train), np.array(y_train)\n",
    "\n",
    "\n",
    "x_train = np.reshape(x_train, (x_train.shape[0], x_train.shape[1], 1))\n"
   ]
  },
  {
   "cell_type": "code",
   "execution_count": 68,
   "metadata": {
    "execution": {
     "iopub.execute_input": "2021-11-11T21:23:24.515621Z",
     "iopub.status.busy": "2021-11-11T21:23:24.515058Z",
     "iopub.status.idle": "2021-11-11T21:38:27.917513Z",
     "shell.execute_reply": "2021-11-11T21:38:27.916480Z",
     "shell.execute_reply.started": "2021-11-11T21:23:24.515580Z"
    }
   },
   "outputs": [],
   "source": [
    "from keras.models import Sequential\n",
    "from keras.layers import Dense, LSTM\n",
    "\n",
    "# Build the LSTM model\n",
    "model = Sequential()\n",
    "model.add(LSTM(128, return_sequences=True, input_shape= (x_train.shape[1], 1)))\n",
    "model.add(LSTM(64, return_sequences=False))\n",
    "model.add(Dense(25))\n",
    "model.add(Dense(1))\n",
    "\n",
    "# Compile the model\n",
    "model.compile(optimizer='adam', loss='mean_squared_error')\n",
    "\n",
    "# Train the model\n",
    "history = model.fit(x_train, y_train, batch_size=8, epochs=100)"
   ]
  },
  {
   "cell_type": "code",
   "execution_count": 69,
   "metadata": {
    "execution": {
     "iopub.execute_input": "2021-11-11T21:38:27.920040Z",
     "iopub.status.busy": "2021-11-11T21:38:27.919388Z",
     "iopub.status.idle": "2021-11-11T21:38:28.183450Z",
     "shell.execute_reply": "2021-11-11T21:38:28.182525Z",
     "shell.execute_reply.started": "2021-11-11T21:38:27.920003Z"
    }
   },
   "outputs": [],
   "source": [
    "plt.plot(history.history['loss'])"
   ]
  },
  {
   "cell_type": "code",
   "execution_count": 70,
   "metadata": {
    "execution": {
     "iopub.execute_input": "2021-11-11T21:38:28.185360Z",
     "iopub.status.busy": "2021-11-11T21:38:28.185045Z",
     "iopub.status.idle": "2021-11-11T21:38:29.106261Z",
     "shell.execute_reply": "2021-11-11T21:38:29.105126Z",
     "shell.execute_reply.started": "2021-11-11T21:38:28.185324Z"
    }
   },
   "outputs": [],
   "source": [
    "\n",
    "test_data = scaled_data[training_data_len - 60: , :]\n",
    "\n",
    "x_test = []\n",
    "y_test = dataset[training_data_len:, :]\n",
    "for i in range(60, len(test_data)):\n",
    "    x_test.append(test_data[i-60:i, 0])\n",
    "    \n",
    "\n",
    "x_test = np.array(x_test)\n",
    "\n",
    "\n",
    "x_test = np.reshape(x_test, (x_test.shape[0], x_test.shape[1], 1 ))\n",
    "\n",
    "\n",
    "predictions = model.predict(x_test)\n",
    "predictions = scaler.inverse_transform(predictions)\n",
    "\n",
    "# Get the root mean squared error\n",
    "rmse = np.sqrt(np.mean(((predictions - y_test) ** 2)))\n",
    "rmse"
   ]
  },
  {
   "cell_type": "code",
   "execution_count": 71,
   "metadata": {
    "execution": {
     "iopub.execute_input": "2021-11-11T21:38:29.107795Z",
     "iopub.status.busy": "2021-11-11T21:38:29.107581Z",
     "iopub.status.idle": "2021-11-11T21:38:29.379021Z",
     "shell.execute_reply": "2021-11-11T21:38:29.378213Z",
     "shell.execute_reply.started": "2021-11-11T21:38:29.107768Z"
    }
   },
   "outputs": [],
   "source": [
    "# Plot the data\n",
    "train = data[:training_data_len]\n",
    "valid = data[training_data_len:]\n",
    "valid['Predictions'] = predictions\n",
    "# Visualize the data\n",
    "plt.figure(figsize=(16,6))\n",
    "plt.title('Model')\n",
    "plt.ylabel('Close Price USD ($)', fontsize=18)\n",
    "plt.plot(train['close'])\n",
    "plt.plot(valid[['close', 'Predictions']])\n",
    "plt.legend(['Train', 'Val', 'Predictions'], loc='lower right')\n",
    "plt.show()"
   ]
  },
  {
   "cell_type": "code",
   "execution_count": 72,
   "metadata": {
    "execution": {
     "iopub.execute_input": "2021-11-11T21:38:29.380365Z",
     "iopub.status.busy": "2021-11-11T21:38:29.380111Z",
     "iopub.status.idle": "2021-11-11T21:38:29.393044Z",
     "shell.execute_reply": "2021-11-11T21:38:29.392434Z",
     "shell.execute_reply.started": "2021-11-11T21:38:29.380331Z"
    }
   },
   "outputs": [],
   "source": [
    "# Show the valid and predicted prices\n",
    "valid"
   ]
  }
 ],
 "metadata": {
  "kernelspec": {
   "display_name": "Python 3",
   "language": "python",
   "name": "python3"
  },
  "language_info": {
   "codemirror_mode": {
    "name": "ipython",
    "version": 3
   },
   "file_extension": ".py",
   "mimetype": "text/x-python",
   "name": "python",
   "nbconvert_exporter": "python",
   "pygments_lexer": "ipython3",
   "version": "3.8.8"
  }
 },
 "nbformat": 4,
 "nbformat_minor": 4
}
